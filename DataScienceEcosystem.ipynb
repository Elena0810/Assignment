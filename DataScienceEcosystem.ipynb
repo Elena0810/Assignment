{
 "cells": [
  {
   "cell_type": "markdown",
   "id": "e9e6ce97-1243-4cf8-a9a4-ace4f7e8c5b1",
   "metadata": {},
   "source": [
    "# Data Science Tools and Ecosystem"
   ]
  },
  {
   "cell_type": "markdown",
   "id": "09ae6986-c260-4975-a23c-8b1a2540111c",
   "metadata": {},
   "source": [
    "In this notebook, Data Science Tools and Ecosystem are summarized."
   ]
  },
  {
   "cell_type": "markdown",
   "id": "62a999ef-9e22-4ac9-9ab4-ed29fc6a4ea4",
   "metadata": {},
   "source": [
    "**Objectives:**\n",
    "- List popular languages for Data Science\n",
    "- List commonly used libraries for Data Science\n",
    "- List popular open-source development environments for Data Science\n",
    "- Insert artihmetic expressions"
   ]
  },
  {
   "cell_type": "markdown",
   "id": "009d18db-4881-4e5b-9445-fac5948f73e1",
   "metadata": {},
   "source": [
    "Some of the popular languages that Data Scientists use are:\n",
    "1. Python\n",
    "2. R\n",
    "3. SQL"
   ]
  },
  {
   "cell_type": "markdown",
   "id": "80e4517c-75c7-4ea1-b1fc-cf8c34f9014e",
   "metadata": {},
   "source": [
    "Some of the commonly used libraries used by Data Scientists include:\n",
    "1. Pandas\n",
    "2. Seaborn\n",
    "3. Numpy"
   ]
  },
  {
   "cell_type": "markdown",
   "id": "8392bef9-2e25-4f58-978f-7f01825377fa",
   "metadata": {},
   "source": [
    "|Data Science Tools| \n",
    "|------------------|\n",
    "|RStudio|\n",
    "|Jupyter Notebook|\n",
    "|GitHub|"
   ]
  },
  {
   "cell_type": "markdown",
   "id": "81cda688-5f59-4eef-8511-8d84f28e10f3",
   "metadata": {},
   "source": [
    "### Below are a few examples of evaluating arithmetic expressions in Python"
   ]
  },
  {
   "cell_type": "markdown",
   "id": "a692ed2f-b80a-4d7e-bb79-7033e50d9074",
   "metadata": {},
   "source": [
    "This is a simple arithmetic expression to multiply then add integers."
   ]
  },
  {
   "cell_type": "code",
   "execution_count": 8,
   "id": "a83f0f70-5687-4005-b29c-536c5d00e4c8",
   "metadata": {},
   "outputs": [
    {
     "data": {
      "text/plain": [
       "17"
      ]
     },
     "execution_count": 8,
     "metadata": {},
     "output_type": "execute_result"
    }
   ],
   "source": [
    "(3*4)+5"
   ]
  },
  {
   "cell_type": "markdown",
   "id": "33face44-c5b1-4748-b358-41203059dc22",
   "metadata": {},
   "source": [
    "This will convert 200 minutes to hours by dividing by 60"
   ]
  },
  {
   "cell_type": "code",
   "execution_count": 9,
   "id": "b5cecf31-358f-48b4-8f83-ce03f9076dd3",
   "metadata": {},
   "outputs": [
    {
     "data": {
      "text/plain": [
       "3.3333333333333335"
      ]
     },
     "execution_count": 9,
     "metadata": {},
     "output_type": "execute_result"
    }
   ],
   "source": [
    "200/60"
   ]
  },
  {
   "cell_type": "markdown",
   "id": "9fdc3c6f-c18e-4aed-b1f7-4a5f2fa5a480",
   "metadata": {},
   "source": [
    "## Author\n",
    "  Elena"
   ]
  },
  {
   "cell_type": "code",
   "execution_count": null,
   "id": "c721a19a-786e-405c-8814-3333acea80aa",
   "metadata": {},
   "outputs": [],
   "source": []
  }
 ],
 "metadata": {
  "kernelspec": {
   "display_name": "Python 3 (ipykernel)",
   "language": "python",
   "name": "python3"
  },
  "language_info": {
   "codemirror_mode": {
    "name": "ipython",
    "version": 3
   },
   "file_extension": ".py",
   "mimetype": "text/x-python",
   "name": "python",
   "nbconvert_exporter": "python",
   "pygments_lexer": "ipython3",
   "version": "3.10.5"
  }
 },
 "nbformat": 4,
 "nbformat_minor": 5
}
